{
 "cells": [
  {
   "cell_type": "code",
   "execution_count": 1,
   "id": "31c26072-bcfa-4a8a-8136-a6c5a90f0828",
   "metadata": {},
   "outputs": [],
   "source": [
    "import pandas"
   ]
  },
  {
   "cell_type": "code",
   "execution_count": 16,
   "id": "104c4dc0-b47c-4886-8228-65fd2b53886f",
   "metadata": {},
   "outputs": [
    {
     "name": "stdout",
     "output_type": "stream",
     "text": [
      "Collecting twilio\n",
      "  Obtaining dependency information for twilio from https://files.pythonhosted.org/packages/f7/a5/3eeb3e5b99fe4eeb6dbe9e777509aee0ba57c45f4c8596e3f610cc771b9f/twilio-9.1.1-py2.py3-none-any.whl.metadata\n",
      "  Downloading twilio-9.1.1-py2.py3-none-any.whl.metadata (12 kB)\n",
      "Requirement already satisfied: requests>=2.0.0 in c:\\users\\hp\\appdata\\local\\programs\\python\\python312\\lib\\site-packages (from twilio) (2.31.0)\n",
      "Collecting PyJWT<3.0.0,>=2.0.0 (from twilio)\n",
      "  Obtaining dependency information for PyJWT<3.0.0,>=2.0.0 from https://files.pythonhosted.org/packages/2b/4f/e04a8067c7c96c364cef7ef73906504e2f40d690811c021e1a1901473a19/PyJWT-2.8.0-py3-none-any.whl.metadata\n",
      "  Downloading PyJWT-2.8.0-py3-none-any.whl.metadata (4.2 kB)\n",
      "Collecting aiohttp>=3.8.4 (from twilio)\n",
      "  Obtaining dependency information for aiohttp>=3.8.4 from https://files.pythonhosted.org/packages/a0/00/cdbda8b406ce7b656b9cb765f8134b1edb999f816f54e47347d2bc67f4bf/aiohttp-3.9.5-cp312-cp312-win_amd64.whl.metadata\n",
      "  Downloading aiohttp-3.9.5-cp312-cp312-win_amd64.whl.metadata (7.7 kB)\n",
      "Collecting aiohttp-retry>=2.8.3 (from twilio)\n",
      "  Obtaining dependency information for aiohttp-retry>=2.8.3 from https://files.pythonhosted.org/packages/57/57/af573003eca6248a5cbc538fc46bea5b249c2ac86f27140b0a621bcd3fde/aiohttp_retry-2.8.3-py3-none-any.whl.metadata\n",
      "  Downloading aiohttp_retry-2.8.3-py3-none-any.whl.metadata (8.9 kB)\n",
      "Collecting aiosignal>=1.1.2 (from aiohttp>=3.8.4->twilio)\n",
      "  Obtaining dependency information for aiosignal>=1.1.2 from https://files.pythonhosted.org/packages/76/ac/a7305707cb852b7e16ff80eaf5692309bde30e2b1100a1fcacdc8f731d97/aiosignal-1.3.1-py3-none-any.whl.metadata\n",
      "  Downloading aiosignal-1.3.1-py3-none-any.whl.metadata (4.0 kB)\n",
      "Requirement already satisfied: attrs>=17.3.0 in c:\\users\\hp\\appdata\\local\\programs\\python\\python312\\lib\\site-packages (from aiohttp>=3.8.4->twilio) (23.2.0)\n",
      "Collecting frozenlist>=1.1.1 (from aiohttp>=3.8.4->twilio)\n",
      "  Obtaining dependency information for frozenlist>=1.1.1 from https://files.pythonhosted.org/packages/3e/dc/96647994a013bc72f3d453abab18340b7f5e222b7b7291e3697ca1fcfbd5/frozenlist-1.4.1-cp312-cp312-win_amd64.whl.metadata\n",
      "  Downloading frozenlist-1.4.1-cp312-cp312-win_amd64.whl.metadata (12 kB)\n",
      "Collecting multidict<7.0,>=4.5 (from aiohttp>=3.8.4->twilio)\n",
      "  Obtaining dependency information for multidict<7.0,>=4.5 from https://files.pythonhosted.org/packages/4a/68/66fceb758ad7a88993940dbdf3ac59911ba9dc46d7798bf6c8652f89f853/multidict-6.0.5-cp312-cp312-win_amd64.whl.metadata\n",
      "  Downloading multidict-6.0.5-cp312-cp312-win_amd64.whl.metadata (4.3 kB)\n",
      "Collecting yarl<2.0,>=1.0 (from aiohttp>=3.8.4->twilio)\n",
      "  Obtaining dependency information for yarl<2.0,>=1.0 from https://files.pythonhosted.org/packages/c5/f4/2fdc5a11503bc61818243653d836061c9ce0370e2dd9ac5917258a007675/yarl-1.9.4-cp312-cp312-win_amd64.whl.metadata\n",
      "  Downloading yarl-1.9.4-cp312-cp312-win_amd64.whl.metadata (32 kB)\n",
      "Requirement already satisfied: charset-normalizer<4,>=2 in c:\\users\\hp\\appdata\\local\\programs\\python\\python312\\lib\\site-packages (from requests>=2.0.0->twilio) (3.3.2)\n",
      "Requirement already satisfied: idna<4,>=2.5 in c:\\users\\hp\\appdata\\local\\programs\\python\\python312\\lib\\site-packages (from requests>=2.0.0->twilio) (3.6)\n",
      "Requirement already satisfied: urllib3<3,>=1.21.1 in c:\\users\\hp\\appdata\\local\\programs\\python\\python312\\lib\\site-packages (from requests>=2.0.0->twilio) (2.1.0)\n",
      "Requirement already satisfied: certifi>=2017.4.17 in c:\\users\\hp\\appdata\\local\\programs\\python\\python312\\lib\\site-packages (from requests>=2.0.0->twilio) (2023.11.17)\n",
      "Downloading twilio-9.1.1-py2.py3-none-any.whl (1.7 MB)\n",
      "   ---------------------------------------- 0.0/1.7 MB ? eta -:--:--\n",
      "    --------------------------------------- 0.0/1.7 MB 660.6 kB/s eta 0:00:03\n",
      "   - -------------------------------------- 0.1/1.7 MB 825.8 kB/s eta 0:00:03\n",
      "   -- ------------------------------------- 0.1/1.7 MB 751.6 kB/s eta 0:00:03\n",
      "   --- ------------------------------------ 0.1/1.7 MB 774.0 kB/s eta 0:00:03\n",
      "   ---- ----------------------------------- 0.2/1.7 MB 845.5 kB/s eta 0:00:02\n",
      "   ----- ---------------------------------- 0.2/1.7 MB 860.2 kB/s eta 0:00:02\n",
      "   ------ --------------------------------- 0.3/1.7 MB 862.0 kB/s eta 0:00:02\n",
      "   ------- -------------------------------- 0.3/1.7 MB 895.6 kB/s eta 0:00:02\n",
      "   -------- ------------------------------- 0.4/1.7 MB 919.0 kB/s eta 0:00:02\n",
      "   --------- ------------------------------ 0.4/1.7 MB 913.9 kB/s eta 0:00:02\n",
      "   ---------- ----------------------------- 0.5/1.7 MB 930.9 kB/s eta 0:00:02\n",
      "   ----------- ---------------------------- 0.5/1.7 MB 944.9 kB/s eta 0:00:02\n",
      "   ------------- -------------------------- 0.6/1.7 MB 974.4 kB/s eta 0:00:02\n",
      "   -------------- ------------------------- 0.6/1.7 MB 983.0 kB/s eta 0:00:02\n",
      "   --------------- ------------------------ 0.7/1.7 MB 990.5 kB/s eta 0:00:02\n",
      "   ---------------- ----------------------- 0.7/1.7 MB 1.0 MB/s eta 0:00:01\n",
      "   ------------------ --------------------- 0.8/1.7 MB 1.0 MB/s eta 0:00:01\n",
      "   ------------------- -------------------- 0.8/1.7 MB 1.1 MB/s eta 0:00:01\n",
      "   -------------------- ------------------- 0.9/1.7 MB 1.1 MB/s eta 0:00:01\n",
      "   --------------------- ------------------ 0.9/1.7 MB 1.1 MB/s eta 0:00:01\n",
      "   ----------------------- ---------------- 1.0/1.7 MB 1.1 MB/s eta 0:00:01\n",
      "   ------------------------ --------------- 1.1/1.7 MB 1.1 MB/s eta 0:00:01\n",
      "   ------------------------- -------------- 1.1/1.7 MB 1.1 MB/s eta 0:00:01\n",
      "   --------------------------- ------------ 1.2/1.7 MB 1.1 MB/s eta 0:00:01\n",
      "   ----------------------------- ---------- 1.3/1.7 MB 1.1 MB/s eta 0:00:01\n",
      "   ------------------------------ --------- 1.3/1.7 MB 1.1 MB/s eta 0:00:01\n",
      "   ------------------------------- -------- 1.4/1.7 MB 1.1 MB/s eta 0:00:01\n",
      "   --------------------------------- ------ 1.4/1.7 MB 1.2 MB/s eta 0:00:01\n",
      "   ---------------------------------- ----- 1.5/1.7 MB 1.2 MB/s eta 0:00:01\n",
      "   ------------------------------------ --- 1.6/1.7 MB 1.2 MB/s eta 0:00:01\n",
      "   ------------------------------------- -- 1.6/1.7 MB 1.2 MB/s eta 0:00:01\n",
      "   ---------------------------------------  1.7/1.7 MB 1.2 MB/s eta 0:00:01\n",
      "   ---------------------------------------- 1.7/1.7 MB 1.2 MB/s eta 0:00:00\n",
      "Downloading aiohttp-3.9.5-cp312-cp312-win_amd64.whl (369 kB)\n",
      "   ---------------------------------------- 0.0/369.0 kB ? eta -:--:--\n",
      "   ---- ----------------------------------- 41.0/369.0 kB 1.9 MB/s eta 0:00:01\n",
      "   ------------- -------------------------- 122.9/369.0 kB 1.8 MB/s eta 0:00:01\n",
      "   --------------------- ------------------ 194.6/369.0 kB 1.7 MB/s eta 0:00:01\n",
      "   ----------------------------- ---------- 276.5/369.0 kB 1.7 MB/s eta 0:00:01\n",
      "   ---------------------------------------  368.6/369.0 kB 1.8 MB/s eta 0:00:01\n",
      "   ---------------------------------------  368.6/369.0 kB 1.8 MB/s eta 0:00:01\n",
      "   ---------------------------------------- 369.0/369.0 kB 1.3 MB/s eta 0:00:00\n",
      "Downloading aiohttp_retry-2.8.3-py3-none-any.whl (9.8 kB)\n",
      "Downloading PyJWT-2.8.0-py3-none-any.whl (22 kB)\n",
      "Downloading aiosignal-1.3.1-py3-none-any.whl (7.6 kB)\n",
      "Downloading frozenlist-1.4.1-cp312-cp312-win_amd64.whl (50 kB)\n",
      "   ---------------------------------------- 0.0/50.5 kB ? eta -:--:--\n",
      "   ---------------------------------------- 50.5/50.5 kB 1.3 MB/s eta 0:00:00\n",
      "Downloading multidict-6.0.5-cp312-cp312-win_amd64.whl (27 kB)\n",
      "Downloading yarl-1.9.4-cp312-cp312-win_amd64.whl (76 kB)\n",
      "   ---------------------------------------- 0.0/76.4 kB ? eta -:--:--\n",
      "   ------------------------------------- -- 71.7/76.4 kB 2.0 MB/s eta 0:00:01\n",
      "   ---------------------------------------- 76.4/76.4 kB 1.4 MB/s eta 0:00:00\n",
      "Installing collected packages: PyJWT, multidict, frozenlist, yarl, aiosignal, aiohttp, aiohttp-retry, twilio\n",
      "Successfully installed PyJWT-2.8.0 aiohttp-3.9.5 aiohttp-retry-2.8.3 aiosignal-1.3.1 frozenlist-1.4.1 multidict-6.0.5 twilio-9.1.1 yarl-1.9.4\n"
     ]
    },
    {
     "name": "stderr",
     "output_type": "stream",
     "text": [
      "\n",
      "[notice] A new release of pip is available: 23.2.1 -> 24.0\n",
      "[notice] To update, run: python.exe -m pip install --upgrade pip\n"
     ]
    }
   ],
   "source": [
    "!pip install twilio"
   ]
  },
  {
   "cell_type": "code",
   "execution_count": 3,
   "id": "38c28abd-0b51-4591-95e5-70507bf14aab",
   "metadata": {},
   "outputs": [
    {
     "name": "stdout",
     "output_type": "stream",
     "text": [
      "Requirement already satisfied: yfinance in c:\\users\\hp\\appdata\\local\\programs\\python\\python312\\lib\\site-packages (0.2.40)\n",
      "Requirement already satisfied: pandas>=1.3.0 in c:\\users\\hp\\appdata\\local\\programs\\python\\python312\\lib\\site-packages (from yfinance) (2.1.4)\n",
      "Requirement already satisfied: numpy>=1.16.5 in c:\\users\\hp\\appdata\\local\\programs\\python\\python312\\lib\\site-packages (from yfinance) (1.26.3)\n",
      "Requirement already satisfied: requests>=2.31 in c:\\users\\hp\\appdata\\local\\programs\\python\\python312\\lib\\site-packages (from yfinance) (2.31.0)\n",
      "Requirement already satisfied: multitasking>=0.0.7 in c:\\users\\hp\\appdata\\local\\programs\\python\\python312\\lib\\site-packages (from yfinance) (0.0.11)\n",
      "Requirement already satisfied: lxml>=4.9.1 in c:\\users\\hp\\appdata\\local\\programs\\python\\python312\\lib\\site-packages (from yfinance) (5.2.2)\n",
      "Requirement already satisfied: platformdirs>=2.0.0 in c:\\users\\hp\\appdata\\local\\programs\\python\\python312\\lib\\site-packages (from yfinance) (4.1.0)\n",
      "Requirement already satisfied: pytz>=2022.5 in c:\\users\\hp\\appdata\\local\\programs\\python\\python312\\lib\\site-packages (from yfinance) (2023.3.post1)\n",
      "Requirement already satisfied: frozendict>=2.3.4 in c:\\users\\hp\\appdata\\local\\programs\\python\\python312\\lib\\site-packages (from yfinance) (2.4.4)\n",
      "Requirement already satisfied: peewee>=3.16.2 in c:\\users\\hp\\appdata\\local\\programs\\python\\python312\\lib\\site-packages (from yfinance) (3.17.5)\n",
      "Requirement already satisfied: beautifulsoup4>=4.11.1 in c:\\users\\hp\\appdata\\local\\programs\\python\\python312\\lib\\site-packages (from yfinance) (4.12.2)\n",
      "Requirement already satisfied: html5lib>=1.1 in c:\\users\\hp\\appdata\\local\\programs\\python\\python312\\lib\\site-packages (from yfinance) (1.1)\n",
      "Requirement already satisfied: soupsieve>1.2 in c:\\users\\hp\\appdata\\local\\programs\\python\\python312\\lib\\site-packages (from beautifulsoup4>=4.11.1->yfinance) (2.5)\n",
      "Requirement already satisfied: six>=1.9 in c:\\users\\hp\\appdata\\local\\programs\\python\\python312\\lib\\site-packages (from html5lib>=1.1->yfinance) (1.16.0)\n",
      "Requirement already satisfied: webencodings in c:\\users\\hp\\appdata\\local\\programs\\python\\python312\\lib\\site-packages (from html5lib>=1.1->yfinance) (0.5.1)\n",
      "Requirement already satisfied: python-dateutil>=2.8.2 in c:\\users\\hp\\appdata\\local\\programs\\python\\python312\\lib\\site-packages (from pandas>=1.3.0->yfinance) (2.8.2)\n",
      "Requirement already satisfied: tzdata>=2022.1 in c:\\users\\hp\\appdata\\local\\programs\\python\\python312\\lib\\site-packages (from pandas>=1.3.0->yfinance) (2023.4)\n",
      "Requirement already satisfied: charset-normalizer<4,>=2 in c:\\users\\hp\\appdata\\local\\programs\\python\\python312\\lib\\site-packages (from requests>=2.31->yfinance) (3.3.2)\n",
      "Requirement already satisfied: idna<4,>=2.5 in c:\\users\\hp\\appdata\\local\\programs\\python\\python312\\lib\\site-packages (from requests>=2.31->yfinance) (3.6)\n",
      "Requirement already satisfied: urllib3<3,>=1.21.1 in c:\\users\\hp\\appdata\\local\\programs\\python\\python312\\lib\\site-packages (from requests>=2.31->yfinance) (2.1.0)\n",
      "Requirement already satisfied: certifi>=2017.4.17 in c:\\users\\hp\\appdata\\local\\programs\\python\\python312\\lib\\site-packages (from requests>=2.31->yfinance) (2023.11.17)\n"
     ]
    },
    {
     "name": "stderr",
     "output_type": "stream",
     "text": [
      "\n",
      "[notice] A new release of pip is available: 23.2.1 -> 24.1.1\n",
      "[notice] To update, run: python.exe -m pip install --upgrade pip\n"
     ]
    }
   ],
   "source": [
    "!pip install yfinance"
   ]
  },
  {
   "cell_type": "code",
   "execution_count": 4,
   "id": "6dd429f9-3ea3-4778-9349-cd5917a92332",
   "metadata": {},
   "outputs": [],
   "source": [
    "import yfinance as yf"
   ]
  },
  {
   "cell_type": "code",
   "execution_count": 5,
   "id": "348a4df7-0739-4f7c-9f5f-df825b8907de",
   "metadata": {},
   "outputs": [],
   "source": [
    "import time"
   ]
  },
  {
   "cell_type": "code",
   "execution_count": 6,
   "id": "bcb1099b-b036-4b44-99de-66f306ad438b",
   "metadata": {},
   "outputs": [],
   "source": [
    "from datetime import datetime"
   ]
  },
  {
   "cell_type": "code",
   "execution_count": 7,
   "id": "cd837166-be4f-498f-bf63-5f0e6d10e5c3",
   "metadata": {},
   "outputs": [],
   "source": [
    "from twilio.rest import Client"
   ]
  },
  {
   "cell_type": "code",
   "execution_count": 8,
   "id": "d33a9540-a370-4445-8a02-c68ce2bc2d28",
   "metadata": {},
   "outputs": [],
   "source": [
    "def price(ticker_symbol):\n",
    "  # arr = str.split(',')\n",
    "  share = yf.Ticker(ticker_symbol)\n",
    "  share_data = share.history(period=\"1d\")\n",
    "  currentprice = (share_data.iat[0,3])\n",
    "  return currentprice"
   ]
  },
  {
   "cell_type": "code",
   "execution_count": 9,
   "id": "3ddd3fdb-3f48-4092-a0a2-601db32aa811",
   "metadata": {},
   "outputs": [],
   "source": [
    "nifty_fifty = [\"BHARTIARTL.NS\",\"ASIANPAINT.NS\",\"ITC.NS\",\"EICHERMOT.NS\",\"HEROMOTOCO.NS\",\"RELIANCE.NS\",\"TATASTEEL.NS\",\"INFY.NS\",\"SHRIRAMFIN.NS\",\"DRREDDY.NS\",\"SUNPHARMA.NS\",\n",
    "               \"TCS.NS\",\"MARUTI.NS\",\"HCLTECH.NS\",\"COALINDIA.NS\",\"LTIM.NS\",\"HDFCLIFE.NS\",\"BAJAJ-AUTO.NS\",\"BRITANNIA.NS\",\"NESTLEIND.NS\",\"HINDALCO.NS\",\"LT.NS\",\"TATACONSUM.NS\",\"WIPRO.NS\",\n",
    "               \"BAJAJ-AUTO.NS\",\"BPCL.NS\",\"JSWSTEEL.NS\",\"ICICIBANK.NS\",\"INDUSINDBK.NS\",\"ONGC.NS\",\"DIVISLAB.NS\",\"SBILIFE.NS\",\"BAJFINANCE.NS\",\"CIPLA.NS\",\"GRASIM.NS\",\"HINDUNILVR.NS\",\n",
    "               \"M&M.NS\",\"TATAMOTORS.NS\",\"APOLLOHOSP.NS\",\"SBIN.NS\",\"KOTAKBANK.NS\",\"ADANIENT.NS\",\"HDFCBANK.NS\",\"POWERGRID.NS\",\"AXISBANK.BO\",\"NTPC.NS\",\"TECHM.NS\",\"ADANIPORTS.NS\",\"ULTRACEMCO.NS\",\"TITAN.NS\"]\n",
    "\n",
    "\n",
    "# nifty_fifty = [\"BHARTIARTL.NS\",\"ASIANPAINT.NS\",\"ITC.NS\"]\n",
    "\n",
    "\n",
    "\n"
   ]
  },
  {
   "cell_type": "code",
   "execution_count": 10,
   "id": "2b6e35f0-4f27-48e4-8e0e-a8cd03616944",
   "metadata": {},
   "outputs": [],
   "source": [
    "account_sid = 'AC616e30af3f2fbdc4cb7d50f82d8c1936'\n",
    "auth_token = '711e07cdd34d1d208d92b2851ed4aeaf'\n",
    "twilio_number = 'whatsapp:+14155238886'  \n",
    "your_number = 'whatsapp:+918770775283'\n",
    "\n",
    "client = Client(account_sid, auth_token)\n",
    "\n",
    "message = \"You have an update on shares.\"\n",
    "\n",
    "def send_whatsapp_message(message):\n",
    "    client.messages.create(\n",
    "        body=message,\n",
    "        from_=twilio_number,\n",
    "        to=your_number\n",
    "    )"
   ]
  },
  {
   "cell_type": "code",
   "execution_count": null,
   "id": "135f00b1-be47-4ae0-8000-1ec855803a6f",
   "metadata": {},
   "outputs": [],
   "source": [
    "interest = 0.10\n",
    "\n",
    "\n",
    "def noticewave(nifty_fifty=[],*a):\n",
    "    lp_dict = {}  # Store last prices in a dictionary\n",
    "    # print(\"lp\")\n",
    "    for t in nifty_fifty:\n",
    "     lpp = price(t)\n",
    "     lp = float(lpp)\n",
    "     lp_dict[t] = lp  # Store last price for ticker t\n",
    "    #  print(f\"{t}:{lp}\")\n",
    "\n",
    "\n",
    "    while True:\n",
    "      time.sleep(30)\n",
    "      # now = datetime.now()\n",
    "      # current_time = now.strftime(\"%H:%M:%S\")\n",
    "      cp_dict = {}  # Store current prices in a dictionary\n",
    "      # print(\"cp\")\n",
    "      for t in nifty_fifty:\n",
    "       cpp = price(t)\n",
    "       cp = float(cpp)\n",
    "       cp_dict[t] = cp  # Store current price for ticker t\n",
    "      #  print(f\"{t}:{cp}\")\n",
    "\n",
    "      for tp in nifty_fifty:\n",
    "       if cp_dict[tp] > lp_dict[tp]:  # Access prices from dictionaries\n",
    "         percentagechangee = (cp_dict[tp] - lp_dict[tp]) * 100 / cp_dict[tp]\n",
    "         percentagechange = float(percentagechangee)\n",
    "         direction = \"upwards\"\n",
    "        #  print(f\"{tp} is moving upwards with {percentagechange} % change\")\n",
    "        #  print(percentagechange)\n",
    "       else:\n",
    "         percentagechangee = (lp_dict[tp] - cp_dict[tp]) * 100 / lp_dict[tp]\n",
    "         percentagechange = float(percentagechangee)\n",
    "         direction = \"downwards\"\n",
    "        #  print(f\"{tp} is moving downwards with {percentagechange} % change\")\n",
    "        #  print(percentagechange)\n",
    "       if(percentagechange>interest):\n",
    "        now = datetime.now()\n",
    "        current_time = now.strftime(\"%H:%M:%S\")\n",
    "        message = f\"{tp} is moving {direction} with {percentagechange} % change. Current time: {current_time}\"\n",
    "        send_whatsapp_message(message)\n",
    "        print(message)\n",
    "       lp_dict[tp] = cp_dict[tp]  # Update last price for ticker t\n",
    "      #  print(\"____________________________________________________________\")\n",
    "\n",
    "\n",
    "noticewave(nifty_fifty,interest)\n",
    "\n"
   ]
  },
  {
   "cell_type": "code",
   "execution_count": null,
   "id": "f0552ab0-4e8e-4492-9ede-1aaf4d486a19",
   "metadata": {},
   "outputs": [],
   "source": []
  }
 ],
 "metadata": {
  "kernelspec": {
   "display_name": "Python 3 (ipykernel)",
   "language": "python",
   "name": "python3"
  },
  "language_info": {
   "codemirror_mode": {
    "name": "ipython",
    "version": 3
   },
   "file_extension": ".py",
   "mimetype": "text/x-python",
   "name": "python",
   "nbconvert_exporter": "python",
   "pygments_lexer": "ipython3",
   "version": "3.12.1"
  }
 },
 "nbformat": 4,
 "nbformat_minor": 5
}
